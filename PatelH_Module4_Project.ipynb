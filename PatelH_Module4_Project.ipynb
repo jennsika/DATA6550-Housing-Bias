{
  "nbformat": 4,
  "nbformat_minor": 0,
  "metadata": {
    "colab": {
      "provenance": []
    },
    "kernelspec": {
      "name": "python3",
      "display_name": "Python 3"
    },
    "language_info": {
      "name": "python"
    }
  },
  "cells": [
    {
      "cell_type": "code",
      "source": [
        "!pip install ace_tools"
      ],
      "metadata": {
        "colab": {
          "base_uri": "https://localhost:8080/"
        },
        "id": "PkGzkZhByGrV",
        "outputId": "995c7d73-acb9-4f73-baba-f10148e18824"
      },
      "execution_count": null,
      "outputs": [
        {
          "output_type": "stream",
          "name": "stdout",
          "text": [
            "Requirement already satisfied: ace_tools in /usr/local/lib/python3.11/dist-packages (0.0)\n"
          ]
        }
      ]
    },
    {
      "cell_type": "code",
      "source": [
        "from google.colab import drive\n",
        "drive.mount('/content/drive')\n"
      ],
      "metadata": {
        "colab": {
          "base_uri": "https://localhost:8080/"
        },
        "id": "waoIpmadpkzh",
        "outputId": "3539b7b4-d499-4eb4-988a-c19a8ea2e545"
      },
      "execution_count": null,
      "outputs": [
        {
          "output_type": "stream",
          "name": "stdout",
          "text": [
            "Drive already mounted at /content/drive; to attempt to forcibly remount, call drive.mount(\"/content/drive\", force_remount=True).\n"
          ]
        }
      ]
    },
    {
      "cell_type": "code",
      "source": [
        "file_path = \"/content/drive/My Drive/Colab Notebooks/mortgage_covenant_data.csv\"\n",
        "df = pd.read_csv(file_path)\n",
        "\n",
        "df.info()\n",
        "df.head()\n"
      ],
      "metadata": {
        "id": "pS3c2Yo4qskA",
        "colab": {
          "base_uri": "https://localhost:8080/",
          "height": 207
        },
        "outputId": "b52a534e-b3a6-430a-f2b3-ceb6045a48e4"
      },
      "execution_count": null,
      "outputs": [
        {
          "output_type": "error",
          "ename": "NameError",
          "evalue": "name 'pd' is not defined",
          "traceback": [
            "\u001b[0;31m---------------------------------------------------------------------------\u001b[0m",
            "\u001b[0;31mNameError\u001b[0m                                 Traceback (most recent call last)",
            "\u001b[0;32m<ipython-input-8-793435f60729>\u001b[0m in \u001b[0;36m<cell line: 0>\u001b[0;34m()\u001b[0m\n\u001b[1;32m      1\u001b[0m \u001b[0mfile_path\u001b[0m \u001b[0;34m=\u001b[0m \u001b[0;34m\"/content/drive/My Drive/Colab Notebooks/mortgage_covenant_data.csv\"\u001b[0m\u001b[0;34m\u001b[0m\u001b[0;34m\u001b[0m\u001b[0m\n\u001b[0;32m----> 2\u001b[0;31m \u001b[0mdf\u001b[0m \u001b[0;34m=\u001b[0m \u001b[0mpd\u001b[0m\u001b[0;34m.\u001b[0m\u001b[0mread_csv\u001b[0m\u001b[0;34m(\u001b[0m\u001b[0mfile_path\u001b[0m\u001b[0;34m)\u001b[0m\u001b[0;34m\u001b[0m\u001b[0;34m\u001b[0m\u001b[0m\n\u001b[0m\u001b[1;32m      3\u001b[0m \u001b[0;34m\u001b[0m\u001b[0m\n\u001b[1;32m      4\u001b[0m \u001b[0mdf\u001b[0m\u001b[0;34m.\u001b[0m\u001b[0minfo\u001b[0m\u001b[0;34m(\u001b[0m\u001b[0;34m)\u001b[0m\u001b[0;34m\u001b[0m\u001b[0;34m\u001b[0m\u001b[0m\n\u001b[1;32m      5\u001b[0m \u001b[0mdf\u001b[0m\u001b[0;34m.\u001b[0m\u001b[0mhead\u001b[0m\u001b[0;34m(\u001b[0m\u001b[0;34m)\u001b[0m\u001b[0;34m\u001b[0m\u001b[0;34m\u001b[0m\u001b[0m\n",
            "\u001b[0;31mNameError\u001b[0m: name 'pd' is not defined"
          ]
        }
      ]
    },
    {
      "cell_type": "code",
      "source": [],
      "metadata": {
        "id": "xr2vbPtKgYwy"
      },
      "execution_count": null,
      "outputs": []
    },
    {
      "cell_type": "code",
      "source": [
        "# Check missing values in the dataset\n",
        "\n",
        "missing_values = df.isnull().sum()\n",
        "\n",
        "# Convert to DataFrame for better readability\n",
        "\n",
        "missing_df = missing_values.to_frame(name=\"Missing Count\")\n",
        "\n",
        "# Display the missing values summary\n",
        "\n",
        "print(missing_df)\n"
      ],
      "metadata": {
        "id": "NN_uJ4O5v0Dn"
      },
      "execution_count": null,
      "outputs": []
    },
    {
      "cell_type": "code",
      "source": [
        "# Dropping rows with missing census tract data\n",
        "\n",
        "df_cleaned = df.dropna(subset=[\"census_tract\"])"
      ],
      "metadata": {
        "id": "fV2eRPlDv0MI"
      },
      "execution_count": null,
      "outputs": []
    },
    {
      "cell_type": "code",
      "source": [
        "# Filling missing property values with median\n",
        "\n",
        "df_cleaned[\"property_value\"] = df_cleaned.groupby(\"census_tract\")[\"property_value\"].transform(\n",
        "    lambda x: x.fillna(x.median())\n",
        ")"
      ],
      "metadata": {
        "id": "nOoIizD5v0Qm"
      },
      "execution_count": null,
      "outputs": []
    },
    {
      "cell_type": "code",
      "source": [
        "# Filling missing income values\n",
        "\n",
        "df_cleaned[\"income\"] = df_cleaned.groupby(\"census_tract\")[\"income\"].transform(\n",
        "    lambda x: x.fillna(x.median())\n",
        ")"
      ],
      "metadata": {
        "id": "6g3FUPEFv0Ub"
      },
      "execution_count": null,
      "outputs": []
    },
    {
      "cell_type": "code",
      "source": [
        "# Filling missing interest rates with the median interest rate\n",
        "\n",
        "df_cleaned[\"interest_rate\"] = df_cleaned.groupby(\"loan_amount\")[\"interest_rate\"].transform(\n",
        "    lambda x: x.fillna(x.median())\n",
        ")\n"
      ],
      "metadata": {
        "id": "V_5If3Siv0X_"
      },
      "execution_count": null,
      "outputs": []
    },
    {
      "cell_type": "code",
      "source": [
        "# Replacing missing covenant density with 0\n",
        "\n",
        "df_cleaned[\"covenant_density\"] = df_cleaned[\"covenant_density\"].fillna(0)"
      ],
      "metadata": {
        "id": "rcIRIV9Rxfco"
      },
      "execution_count": null,
      "outputs": []
    },
    {
      "cell_type": "code",
      "source": [
        "# Verifing that missing values have been handled\n",
        "\n",
        "missing_values_after = df_cleaned.isnull().sum()"
      ],
      "metadata": {
        "id": "pPJLMPRrxffj"
      },
      "execution_count": null,
      "outputs": []
    },
    {
      "cell_type": "code",
      "source": [
        "# Remove Ramsey County data from the dataset\n",
        "\n",
        "ramsey_county_tracts = df_cleaned[df_cleaned[\"census_tract\"].astype(str).str.startswith(\"2.7\")]"
      ],
      "metadata": {
        "id": "Tc0zAOVdxfiw"
      },
      "execution_count": null,
      "outputs": []
    },
    {
      "cell_type": "code",
      "source": [
        "# Drop Ramsey County records\n",
        "\n",
        "df_cleaned = df_cleaned[~df_cleaned[\"census_tract\"].isin(ramsey_county_tracts[\"census_tract\"])]"
      ],
      "metadata": {
        "id": "I43YrAQZ0wOw"
      },
      "execution_count": null,
      "outputs": []
    },
    {
      "cell_type": "code",
      "source": [
        "# Confirm dataset size after removing Ramsey County\n",
        "\n",
        "df_cleaned.shape\n"
      ],
      "metadata": {
        "id": "0O9cAzU30x3n"
      },
      "execution_count": null,
      "outputs": []
    },
    {
      "cell_type": "code",
      "source": [
        "# Mortgage Approval Rates by Race\n",
        "\n",
        "approval_rates = df_cleaned.groupby(\"derived_race\")[\"was_approved\"].mean().sort_values()"
      ],
      "metadata": {
        "id": "7akGS2Iq2ZhK"
      },
      "execution_count": null,
      "outputs": []
    },
    {
      "cell_type": "code",
      "source": [
        "# Property Values by Covenant Presence\n",
        "\n",
        "covenant_vs_property_value = df_cleaned.groupby(\"covenant_count\")[\"property_value\"].mean()"
      ],
      "metadata": {
        "id": "LPleyRth2Zof"
      },
      "execution_count": null,
      "outputs": []
    },
    {
      "cell_type": "code",
      "source": [
        "# Interest Rates by Race\n",
        "\n",
        "interest_rates_by_race = df_cleaned.groupby(\"derived_race\")[\"interest_rate\"].mean()"
      ],
      "metadata": {
        "id": "-SOiTrVr2Zrd"
      },
      "execution_count": null,
      "outputs": []
    },
    {
      "cell_type": "code",
      "source": [
        "# Display summary statistics in a table format\n",
        "\n",
        "summary_df = pd.DataFrame({\n",
        "    \"Approval Rate\": approval_rates,\n",
        "    \"Average Interest Rate\": interest_rates_by_race,\n",
        "}).fillna(\"-\")"
      ],
      "metadata": {
        "id": "gi_61gd12ZuN"
      },
      "execution_count": null,
      "outputs": []
    },
    {
      "cell_type": "code",
      "source": [
        "from IPython.display import display"
      ],
      "metadata": {
        "id": "nxMviisl2Zw0"
      },
      "execution_count": null,
      "outputs": []
    },
    {
      "cell_type": "code",
      "source": [
        "# Display the summary DataFrame\n",
        "\n",
        "display(summary_df)"
      ],
      "metadata": {
        "id": "yQ4pqzBe2ZzO"
      },
      "execution_count": null,
      "outputs": []
    },
    {
      "cell_type": "code",
      "source": [
        "import scipy.stats as stats"
      ],
      "metadata": {
        "id": "_imfCYEm2Z10"
      },
      "execution_count": null,
      "outputs": []
    },
    {
      "cell_type": "code",
      "source": [
        "# ANOVA Test for Interest Rate Differences by Race\n",
        "\n",
        "race_groups = [group.dropna().values for _, group in df_cleaned.groupby(\"derived_race\")[\"interest_rate\"]]"
      ],
      "metadata": {
        "id": "weI49SB44kMB"
      },
      "execution_count": null,
      "outputs": []
    },
    {
      "cell_type": "code",
      "source": [
        "# Run ANOVA test\n",
        "\n",
        "anova_result = stats.f_oneway(*race_groups)"
      ],
      "metadata": {
        "id": "MdVUOPsC4mZ4"
      },
      "execution_count": null,
      "outputs": []
    },
    {
      "cell_type": "code",
      "source": [
        "# Chi-Square Test for Mortgage Approvals by Race\n",
        "\n",
        "approval_counts = df_cleaned.groupby([\"derived_race\", \"was_approved\"]).size().unstack()\n",
        "chi2_result = stats.chi2_contingency(approval_counts.fillna(0))"
      ],
      "metadata": {
        "id": "edplQqfj4mg4"
      },
      "execution_count": null,
      "outputs": []
    },
    {
      "cell_type": "code",
      "source": [
        "# Display results\n",
        "\n",
        "stat_results = pd.DataFrame({\n",
        "    \"Test\": [\"ANOVA - Interest Rate by Race\", \"Chi-Square - Loan Approvals by Race\"],\n",
        "    \"Statistic\": [anova_result.statistic, chi2_result.statistic],\n",
        "    \"P-Value\": [anova_result.pvalue, chi2_result.pvalue]\n",
        "})"
      ],
      "metadata": {
        "id": "zV4BTAfs4mj1"
      },
      "execution_count": null,
      "outputs": []
    },
    {
      "cell_type": "code",
      "source": [
        "from IPython.display import display\n",
        "\n",
        "# Display the statistical test results\n",
        "\n",
        "display(stat_results)"
      ],
      "metadata": {
        "id": "idVTh4wt4mo5"
      },
      "execution_count": null,
      "outputs": []
    },
    {
      "cell_type": "code",
      "source": [
        "import matplotlib.pyplot as plt\n",
        "import seaborn as sns"
      ],
      "metadata": {
        "id": "wKwkFV0_6ATo"
      },
      "execution_count": null,
      "outputs": []
    },
    {
      "cell_type": "code",
      "source": [
        "# Bar Chart: Mortgage Approval Rates by Race\n",
        "\n",
        "plt.figure(figsize=(10, 5))\n",
        "approval_rates.plot(kind=\"bar\", color=\"skyblue\", edgecolor=\"black\")\n",
        "plt.title(\"Mortgage Approval Rates by Race\", fontsize=14)\n",
        "plt.xlabel(\"Race\", fontsize=12)\n",
        "plt.ylabel(\"Approval Rate\", fontsize=12)\n",
        "plt.xticks(rotation=45)\n",
        "plt.grid(axis=\"y\", linestyle=\"--\", alpha=0.7)\n",
        "plt.show()"
      ],
      "metadata": {
        "id": "0naqKRXP6s50"
      },
      "execution_count": null,
      "outputs": []
    },
    {
      "cell_type": "code",
      "source": [
        "# Box Plot: Interest Rates by Race\n",
        "\n",
        "plt.figure(figsize=(12, 6))\n",
        "sns.boxplot(x=\"derived_race\", y=\"interest_rate\", data=df_cleaned, palette=\"pastel\")\n",
        "plt.title(\"Distribution of Interest Rates by Race\", fontsize=14)\n",
        "plt.xlabel(\"Race\", fontsize=12)\n",
        "plt.ylabel(\"Interest Rate (%)\", fontsize=12)\n",
        "plt.xticks(rotation=45)\n",
        "plt.grid(axis=\"y\", linestyle=\"--\", alpha=0.7)\n",
        "plt.show()"
      ],
      "metadata": {
        "id": "d2VAZDBB6s9I"
      },
      "execution_count": null,
      "outputs": []
    },
    {
      "cell_type": "code",
      "source": [
        "# Scatter Plot: Historical Covenants vs. Property Values\n",
        "\n",
        "plt.figure(figsize=(10, 6))\n",
        "sns.scatterplot(x=df_cleaned[\"covenant_count\"], y=df_cleaned[\"property_value\"], alpha=0.5)\n",
        "plt.title(\"Relationship Between Covenant Count and Property Values\", fontsize=14)\n",
        "plt.xlabel(\"Covenant Count\", fontsize=12)\n",
        "plt.ylabel(\"Property Value ($)\", fontsize=12)\n",
        "plt.grid(True, linestyle=\"--\", alpha=0.7)\n",
        "plt.show()\n"
      ],
      "metadata": {
        "id": "aP0qhbUq6tBI"
      },
      "execution_count": null,
      "outputs": []
    },
    {
      "cell_type": "code",
      "source": [],
      "metadata": {
        "id": "3TZmoQk56AW_"
      },
      "execution_count": null,
      "outputs": []
    }
  ]
}